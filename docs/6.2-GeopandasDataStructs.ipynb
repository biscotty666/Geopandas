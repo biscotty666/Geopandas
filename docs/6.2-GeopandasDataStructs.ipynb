{
 "cells": [
  {
   "cell_type": "markdown",
   "id": "eb2d5503-819b-4921-afa1-691187483d9d",
   "metadata": {},
   "source": [
    "# Geopandas Data Structures"
   ]
  },
  {
   "cell_type": "code",
   "execution_count": null,
   "id": "b4242770-f3bc-49b9-bd85-98d86c294986",
   "metadata": {},
   "outputs": [],
   "source": []
  }
 ],
 "metadata": {
  "kernelspec": {
   "display_name": "Python 3 (ipykernel)",
   "language": "python",
   "name": "python3"
  },
  "language_info": {
   "codemirror_mode": {
    "name": "ipython",
    "version": 3
   },
   "file_extension": ".py",
   "mimetype": "text/x-python",
   "name": "python",
   "nbconvert_exporter": "python",
   "pygments_lexer": "ipython3",
   "version": "3.12.7"
  }
 },
 "nbformat": 4,
 "nbformat_minor": 5
}
