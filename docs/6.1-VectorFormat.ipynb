{
 "cells": [
  {
   "cell_type": "markdown",
   "id": "6e5899fc-4d57-46ae-9ef2-565f27639831",
   "metadata": {},
   "source": [
    "# Representing geodata in vector format"
   ]
  },
  {
   "cell_type": "markdown",
   "id": "f29d6bf0-2787-4b1b-97ab-53ccc77cf9d8",
   "metadata": {},
   "source": [
    "## `shapely`\n",
    "\n",
    "- `shapely` is used for geometric objects like `Point`, `LineString`, etc.\n",
    "- basedon `GEOS` C++ library\n",
    "- used by, eg. `geopandas`"
   ]
  },
  {
   "cell_type": "markdown",
   "id": "4e63a025-a61c-44a7-b4a5-b4db4955e451",
   "metadata": {},
   "source": [
    "# Create Point Geometries"
   ]
  },
  {
   "cell_type": "code",
   "execution_count": 4,
   "id": "0351c53d-93d4-4fa7-9f0f-2cc97e6c3514",
   "metadata": {},
   "outputs": [
    {
     "data": {
      "image/svg+xml": [
       "<svg xmlns=\"http://www.w3.org/2000/svg\" xmlns:xlink=\"http://www.w3.org/1999/xlink\" width=\"100.0\" height=\"100.0\" viewBox=\"1.2000000000000002 3.2 2.0 2.0\" preserveAspectRatio=\"xMinYMin meet\"><g transform=\"matrix(1,0,0,-1,0,8.4)\"><circle cx=\"2.2\" cy=\"4.2\" r=\"0.06\" stroke=\"#555555\" stroke-width=\"0.02\" fill=\"#66cc99\" opacity=\"0.6\" /></g></svg>"
      ],
      "text/plain": [
       "<POINT (2.2 4.2)>"
      ]
     },
     "execution_count": 4,
     "metadata": {},
     "output_type": "execute_result"
    }
   ],
   "source": [
    "from shapely import Point\n",
    "\n",
    "point = Point(2.2, 4.2)\n",
    "point3D = Point(9.26, -2.456, 0.57)\n",
    "point"
   ]
  },
  {
   "cell_type": "markdown",
   "id": "a4f7ce5e-8fda-455f-8f73-52e1423c7d85",
   "metadata": {},
   "source": [
    "## String representations"
   ]
  },
  {
   "cell_type": "code",
   "execution_count": 5,
   "id": "65385c63-aa3b-4834-ad98-2685742e9119",
   "metadata": {},
   "outputs": [
    {
     "name": "stdout",
     "output_type": "stream",
     "text": [
      "POINT Z (9.26 -2.456 0.57)\n"
     ]
    }
   ],
   "source": [
    "print(point3D)"
   ]
  },
  {
   "cell_type": "code",
   "execution_count": 6,
   "id": "5dd57cc2-1cd0-4a7b-8b3d-ee7aa6747291",
   "metadata": {},
   "outputs": [
    {
     "data": {
      "image/svg+xml": [
       "<svg xmlns=\"http://www.w3.org/2000/svg\" xmlns:xlink=\"http://www.w3.org/1999/xlink\" width=\"100.0\" height=\"100.0\" viewBox=\"8.26 -3.456 2.0 2.0\" preserveAspectRatio=\"xMinYMin meet\"><g transform=\"matrix(1,0,0,-1,0,-4.912)\"><circle cx=\"9.26\" cy=\"-2.456\" r=\"0.06\" stroke=\"#555555\" stroke-width=\"0.02\" fill=\"#66cc99\" opacity=\"0.6\" /></g></svg>"
      ],
      "text/plain": [
       "<POINT Z (9.26 -2.456 0.6)>"
      ]
     },
     "execution_count": 6,
     "metadata": {},
     "output_type": "execute_result"
    }
   ],
   "source": [
    "point3D"
   ]
  },
  {
   "cell_type": "markdown",
   "id": "a65e439a-641d-4f10-87c9-3f0b4d6bb427",
   "metadata": {},
   "source": [
    "__WKT charachter string__"
   ]
  },
  {
   "cell_type": "code",
   "execution_count": 8,
   "id": "4054a26f-ac7d-43e9-b783-cda7b2d27d7c",
   "metadata": {},
   "outputs": [
    {
     "data": {
      "text/plain": [
       "'POINT (2.2 4.2)'"
      ]
     },
     "execution_count": 8,
     "metadata": {},
     "output_type": "execute_result"
    }
   ],
   "source": [
    "point.wkt"
   ]
  },
  {
   "cell_type": "markdown",
   "id": "f4a47c50-82c0-4507-9b40-80602b2876be",
   "metadata": {},
   "source": [
    "## Accessing Coordinates"
   ]
  },
  {
   "cell_type": "code",
   "execution_count": 11,
   "id": "45205a3e-63e1-4756-95ae-87312e466b24",
   "metadata": {},
   "outputs": [
    {
     "data": {
      "text/plain": [
       "<shapely.coords.CoordinateSequence at 0x7fa4a064bda0>"
      ]
     },
     "execution_count": 11,
     "metadata": {},
     "output_type": "execute_result"
    }
   ],
   "source": [
    "point.coords"
   ]
  },
  {
   "cell_type": "code",
   "execution_count": 12,
   "id": "31b2bff9-a043-4de8-afa7-6699daafd8a6",
   "metadata": {},
   "outputs": [
    {
     "data": {
      "text/plain": [
       "[(2.2, 4.2)]"
      ]
     },
     "execution_count": 12,
     "metadata": {},
     "output_type": "execute_result"
    }
   ],
   "source": [
    "list(point.coords)"
   ]
  },
  {
   "cell_type": "code",
   "execution_count": 13,
   "id": "b12a9f23-9f75-4baa-9501-0edecc1fede7",
   "metadata": {},
   "outputs": [
    {
     "data": {
      "text/plain": [
       "(2.2, 4.2)"
      ]
     },
     "execution_count": 13,
     "metadata": {},
     "output_type": "execute_result"
    }
   ],
   "source": [
    "point.x, point.y"
   ]
  },
  {
   "cell_type": "code",
   "execution_count": 15,
   "id": "099ced4c-4503-4b6d-a698-a75f435280de",
   "metadata": {},
   "outputs": [
    {
     "data": {
      "text/plain": [
       "'Point'"
      ]
     },
     "execution_count": 15,
     "metadata": {},
     "output_type": "execute_result"
    }
   ],
   "source": [
    "point.geom_type"
   ]
  },
  {
   "cell_type": "code",
   "execution_count": 17,
   "id": "ed230af7-e0b3-453e-acc8-fcab421abb6f",
   "metadata": {},
   "outputs": [
    {
     "data": {
      "text/plain": [
       "0.57"
      ]
     },
     "execution_count": 17,
     "metadata": {},
     "output_type": "execute_result"
    }
   ],
   "source": [
    "point3D.z"
   ]
  },
  {
   "cell_type": "markdown",
   "id": "e7a26b96-b127-4747-b753-38a3caad0482",
   "metadata": {},
   "source": [
    "# Create LineStrings"
   ]
  },
  {
   "cell_type": "code",
   "execution_count": 21,
   "id": "bfcfad7b-6f32-415e-8d15-815f4537fdf3",
   "metadata": {},
   "outputs": [
    {
     "data": {
      "image/svg+xml": [
       "<svg xmlns=\"http://www.w3.org/2000/svg\" xmlns:xlink=\"http://www.w3.org/1999/xlink\" width=\"100.0\" height=\"100.0\" viewBox=\"1.028 -26.272000000000002 9.404 31.644000000000002\" preserveAspectRatio=\"xMinYMin meet\"><g transform=\"matrix(1,0,0,-1,0,-20.900000000000002)\"><polyline fill=\"none\" stroke=\"#66cc99\" stroke-width=\"0.63288\" points=\"2.2,4.2 7.2,-25.1 9.26,-2.456\" opacity=\"0.8\" /></g></svg>"
      ],
      "text/plain": [
       "<LINESTRING (2.2 4.2, 7.2 -25.1, 9.26 -2.456)>"
      ]
     },
     "execution_count": 21,
     "metadata": {},
     "output_type": "execute_result"
    }
   ],
   "source": [
    "from shapely import LineString\n",
    "\n",
    "point1 = Point(2.2, 4.2)\n",
    "point2 = Point(7.2, -25.1)\n",
    "point3 = Point(9.26, -2.456)\n",
    "\n",
    "line = LineString([point1, point2, point3])\n",
    "line"
   ]
  },
  {
   "cell_type": "code",
   "execution_count": 22,
   "id": "7e09f085-9ac1-40c7-85b1-144b3c2c8c0b",
   "metadata": {},
   "outputs": [
    {
     "data": {
      "text/plain": [
       "'LINESTRING (2.2 4.2, 7.2 -25.1, 9.26 -2.456)'"
      ]
     },
     "execution_count": 22,
     "metadata": {},
     "output_type": "execute_result"
    }
   ],
   "source": [
    "line.wkt"
   ]
  },
  {
   "cell_type": "code",
   "execution_count": 24,
   "id": "2ddb6c5a-d02c-49c3-8f38-70b1796f730a",
   "metadata": {},
   "outputs": [
    {
     "data": {
      "text/plain": [
       "'LINESTRING (9.26 -2.456, 7.2 -25.1, 2.2 4.2)'"
      ]
     },
     "execution_count": 24,
     "metadata": {},
     "output_type": "execute_result"
    }
   ],
   "source": [
    "line.reverse().wkt"
   ]
  },
  {
   "cell_type": "code",
   "execution_count": 25,
   "id": "33b2c49d-4f49-4445-b372-7769fe4a10c2",
   "metadata": {},
   "outputs": [
    {
     "data": {
      "text/plain": [
       "[(2.2, 4.2), (7.2, -25.1), (9.26, -2.456)]"
      ]
     },
     "execution_count": 25,
     "metadata": {},
     "output_type": "execute_result"
    }
   ],
   "source": [
    "list(line.coords)"
   ]
  },
  {
   "cell_type": "code",
   "execution_count": 27,
   "id": "6e5a0f25-9973-4ac0-9831-365d8b69de7e",
   "metadata": {},
   "outputs": [
    {
     "data": {
      "text/plain": [
       "(array('d', [2.2, 7.2, 9.26]), array('d', [4.2, -25.1, -2.456]))"
      ]
     },
     "execution_count": 27,
     "metadata": {},
     "output_type": "execute_result"
    }
   ],
   "source": [
    "line.xy"
   ]
  },
  {
   "cell_type": "code",
   "execution_count": 29,
   "id": "cebbe05b-3a73-41a4-9c48-8a61d0231a2c",
   "metadata": {},
   "outputs": [
    {
     "data": {
      "text/plain": [
       "array('d', [2.2, 7.2, 9.26])"
      ]
     },
     "execution_count": 29,
     "metadata": {},
     "output_type": "execute_result"
    }
   ],
   "source": [
    "line.xy[0]"
   ]
  },
  {
   "cell_type": "code",
   "execution_count": 32,
   "id": "fb25c342-8f4e-44d5-adf3-2d7c9ea4856b",
   "metadata": {},
   "outputs": [
    {
     "name": "stdout",
     "output_type": "stream",
     "text": [
      "[2.2, 7.2, 9.26]\n"
     ]
    }
   ],
   "source": [
    "print(list(line.xy[0]))"
   ]
  },
  {
   "cell_type": "code",
   "execution_count": 37,
   "id": "3c38581c-8f43-48bf-94b0-d3652368d4c7",
   "metadata": {},
   "outputs": [
    {
     "name": "stdout",
     "output_type": "stream",
     "text": [
      "line.length=52.46\n"
     ]
    }
   ],
   "source": [
    "print(f\"{line.length=:.2f}\")"
   ]
  },
  {
   "cell_type": "code",
   "execution_count": 38,
   "id": "034150bc-5c5f-4965-a9b9-d779824efac0",
   "metadata": {},
   "outputs": [
    {
     "name": "stdout",
     "output_type": "stream",
     "text": [
      "POINT (6.229961354035622 -11.892411157572392)\n"
     ]
    }
   ],
   "source": [
    "print(line.centroid)"
   ]
  },
  {
   "cell_type": "markdown",
   "id": "9c147be1-6fc6-4370-881a-3b6c7ce6e051",
   "metadata": {},
   "source": [
    "# Create Polygon Geometries"
   ]
  },
  {
   "cell_type": "code",
   "execution_count": 39,
   "id": "9661a1fd-7ce8-4a1e-a093-66cb32d7a19e",
   "metadata": {},
   "outputs": [
    {
     "data": {
      "image/svg+xml": [
       "<svg xmlns=\"http://www.w3.org/2000/svg\" xmlns:xlink=\"http://www.w3.org/1999/xlink\" width=\"100.0\" height=\"100.0\" viewBox=\"1.028 -26.272000000000002 9.404 31.644000000000002\" preserveAspectRatio=\"xMinYMin meet\"><g transform=\"matrix(1,0,0,-1,0,-20.900000000000002)\"><path fill-rule=\"evenodd\" fill=\"#66cc99\" stroke=\"#555555\" stroke-width=\"0.63288\" opacity=\"0.6\" d=\"M 2.2,4.2 L 7.2,-25.1 L 9.26,-2.456 L 2.2,4.2 z\" /></g></svg>"
      ],
      "text/plain": [
       "<POLYGON ((2.2 4.2, 7.2 -25.1, 9.26 -2.456, 2.2 4.2))>"
      ]
     },
     "execution_count": 39,
     "metadata": {},
     "output_type": "execute_result"
    }
   ],
   "source": [
    "from shapely import Polygon\n",
    "\n",
    "poly = Polygon([point1, point2, point3])\n",
    "poly"
   ]
  },
  {
   "cell_type": "markdown",
   "id": "9f7bec7b-c13d-47ca-a77b-a9c7b5d1c5ed",
   "metadata": {},
   "source": [
    "Coordinates have parentheses because they may have \"holes\". The one here is the `exterior` of the polygon."
   ]
  },
  {
   "cell_type": "code",
   "execution_count": 42,
   "id": "71b56f5e-0da1-4e62-bcff-b9db71ad6a8a",
   "metadata": {},
   "outputs": [
    {
     "data": {
      "text/plain": [
       "'POLYGON ((2.2 4.2, 7.2 -25.1, 9.26 -2.456, 2.2 4.2))'"
      ]
     },
     "execution_count": 42,
     "metadata": {},
     "output_type": "execute_result"
    }
   ],
   "source": [
    "poly.wkt"
   ]
  },
  {
   "cell_type": "code",
   "execution_count": 43,
   "id": "bd90232c-4af9-4730-9f41-0ea8a308fea1",
   "metadata": {},
   "outputs": [
    {
     "data": {
      "image/svg+xml": [
       "<svg xmlns=\"http://www.w3.org/2000/svg\" xmlns:xlink=\"http://www.w3.org/1999/xlink\" width=\"100.0\" height=\"100.0\" viewBox=\"1.028 -26.272000000000002 9.404 31.644000000000002\" preserveAspectRatio=\"xMinYMin meet\"><g transform=\"matrix(1,0,0,-1,0,-20.900000000000002)\"><polyline fill=\"none\" stroke=\"#66cc99\" stroke-width=\"0.63288\" points=\"2.2,4.2 7.2,-25.1 9.26,-2.456 2.2,4.2\" opacity=\"0.8\" /></g></svg>"
      ],
      "text/plain": [
       "<LINEARRING (2.2 4.2, 7.2 -25.1, 9.26 -2.456, 2.2 4.2)>"
      ]
     },
     "execution_count": 43,
     "metadata": {},
     "output_type": "execute_result"
    }
   ],
   "source": [
    "poly.exterior"
   ]
  },
  {
   "cell_type": "markdown",
   "id": "b5aa2511-8770-4965-9932-2750d5d35b65",
   "metadata": {},
   "source": [
    "## Polygon with holes"
   ]
  },
  {
   "cell_type": "code",
   "execution_count": 44,
   "id": "a6c978ab-30e1-4b66-9308-5ff9d6734d3c",
   "metadata": {},
   "outputs": [
    {
     "data": {
      "image/svg+xml": [
       "<svg xmlns=\"http://www.w3.org/2000/svg\" xmlns:xlink=\"http://www.w3.org/1999/xlink\" width=\"300\" height=\"208.8\" viewBox=\"-194.4 -104.4 388.8 208.8\" preserveAspectRatio=\"xMinYMin meet\"><g transform=\"matrix(1,0,0,-1,0,0.0)\"><path fill-rule=\"evenodd\" fill=\"#66cc99\" stroke=\"#555555\" stroke-width=\"2.592\" opacity=\"0.6\" d=\"M -180.0,90.0 L -180.0,-90.0 L 180.0,-90.0 L 180.0,90.0 L -180.0,90.0 z\" /></g></svg>"
      ],
      "text/plain": [
       "<POLYGON ((-180 90, -180 -90, 180 -90, 180 90, -180 90))>"
      ]
     },
     "execution_count": 44,
     "metadata": {},
     "output_type": "execute_result"
    }
   ],
   "source": [
    "exterior = [(-180,90), (-180, -90), (180, -90), (180, 90)]\n",
    "holes_coordinates = [[(-170, 80), (-170, -80), (170, -80), (170, 80)]]\n",
    "\n",
    "poly_without_hole = Polygon(shell=exterior)\n",
    "poly_without_hole"
   ]
  },
  {
   "cell_type": "code",
   "execution_count": 45,
   "id": "51811d6a-627a-47b6-8998-286037b2b518",
   "metadata": {},
   "outputs": [
    {
     "data": {
      "image/svg+xml": [
       "<svg xmlns=\"http://www.w3.org/2000/svg\" xmlns:xlink=\"http://www.w3.org/1999/xlink\" width=\"300\" height=\"208.8\" viewBox=\"-194.4 -104.4 388.8 208.8\" preserveAspectRatio=\"xMinYMin meet\"><g transform=\"matrix(1,0,0,-1,0,0.0)\"><path fill-rule=\"evenodd\" fill=\"#66cc99\" stroke=\"#555555\" stroke-width=\"2.592\" opacity=\"0.6\" d=\"M -180.0,90.0 L -180.0,-90.0 L 180.0,-90.0 L 180.0,90.0 L -180.0,90.0 z M -170.0,80.0 L -170.0,-80.0 L 170.0,-80.0 L 170.0,80.0 L -170.0,80.0 z\" /></g></svg>"
      ],
      "text/plain": [
       "<POLYGON ((-180 90, -180 -90, 180 -90, 180 90, -180 90), (-170 80, -170 -80,...>"
      ]
     },
     "execution_count": 45,
     "metadata": {},
     "output_type": "execute_result"
    }
   ],
   "source": [
    "poly_with_hole = Polygon(shell=exterior, holes=holes_coordinates)\n",
    "poly_with_hole"
   ]
  },
  {
   "cell_type": "code",
   "execution_count": 46,
   "id": "db9223c1-ec47-4eab-89d8-caa895221d22",
   "metadata": {},
   "outputs": [
    {
     "data": {
      "text/plain": [
       "'POLYGON ((-180 90, -180 -90, 180 -90, 180 90, -180 90), (-170 80, -170 -80, 170 -80, 170 80, -170 80))'"
      ]
     },
     "execution_count": 46,
     "metadata": {},
     "output_type": "execute_result"
    }
   ],
   "source": [
    "poly_with_hole.wkt"
   ]
  },
  {
   "cell_type": "code",
   "execution_count": 47,
   "id": "ea19f0c0-1210-40c3-b371-7259406dc581",
   "metadata": {},
   "outputs": [
    {
     "name": "stdout",
     "output_type": "stream",
     "text": [
      "Polygon centroid:  POINT (6.22 -7.785333333333334)\n",
      "Polygon Area:  86.789\n",
      "Polygon Bounding Box:  (2.2, -25.1, 9.26, 4.2)\n",
      "Polygon Exterior:  LINEARRING (2.2 4.2, 7.2 -25.1, 9.26 -2.456, 2.2 4.2)\n",
      "Polygon Exterior Length:  62.16395199996553\n"
     ]
    }
   ],
   "source": [
    "print(\"Polygon centroid: \", poly.centroid)\n",
    "print(\"Polygon Area: \", poly.area)\n",
    "print(\"Polygon Bounding Box: \", poly.bounds)\n",
    "print(\"Polygon Exterior: \", poly.exterior)\n",
    "print(\"Polygon Exterior Length: \", poly.exterior.length)"
   ]
  },
  {
   "cell_type": "markdown",
   "id": "4ddf5e85-5436-40e6-a41a-69697bacffac",
   "metadata": {},
   "source": [
    "Lengths and areas are based on lon/lat coordinate system for input. They can be converted to eg., meters."
   ]
  },
  {
   "cell_type": "markdown",
   "id": "6929f350-6d02-411f-bd1b-78fcd0e0a545",
   "metadata": {},
   "source": [
    "Mininum and maximum bounding boxes. Useful to select geometries with only two coordinates."
   ]
  },
  {
   "cell_type": "code",
   "execution_count": 52,
   "id": "f8b41ee5-4186-433e-939f-2e5d44991255",
   "metadata": {},
   "outputs": [
    {
     "data": {
      "image/svg+xml": [
       "<svg xmlns=\"http://www.w3.org/2000/svg\" xmlns:xlink=\"http://www.w3.org/1999/xlink\" width=\"300\" height=\"208.8\" viewBox=\"-194.4 -104.4 388.8 208.8\" preserveAspectRatio=\"xMinYMin meet\"><g transform=\"matrix(1,0,0,-1,0,0.0)\"><path fill-rule=\"evenodd\" fill=\"#66cc99\" stroke=\"#555555\" stroke-width=\"2.592\" opacity=\"0.6\" d=\"M 180.0,-90.0 L 180.0,90.0 L -180.0,90.0 L -180.0,-90.0 L 180.0,-90.0 z\" /></g></svg>"
      ],
      "text/plain": [
       "<POLYGON ((180 -90, 180 90, -180 90, -180 -90, 180 -90))>"
      ]
     },
     "execution_count": 52,
     "metadata": {},
     "output_type": "execute_result"
    }
   ],
   "source": [
    "from shapely.geometry import box\n",
    "\n",
    "min_x, min_y = -180, -90\n",
    "max_x, max_y = 180, 90 \n",
    "box_poly = box(minx=min_x, miny=min_y, maxx=max_x, maxy=max_y)\n",
    "box_poly"
   ]
  },
  {
   "cell_type": "code",
   "execution_count": 53,
   "id": "73a78e8e-c3d6-4e19-bce6-d796748e2345",
   "metadata": {},
   "outputs": [
    {
     "data": {
      "text/plain": [
       "'POLYGON ((180 -90, 180 90, -180 90, -180 -90, 180 -90))'"
      ]
     },
     "execution_count": 53,
     "metadata": {},
     "output_type": "execute_result"
    }
   ],
   "source": [
    "box_poly.wkt"
   ]
  },
  {
   "cell_type": "markdown",
   "id": "b47f6985-46d8-4e4d-89f6-6525b42ec4f6",
   "metadata": {},
   "source": [
    "# Multipoint, MultiLineString, MultiPolygon"
   ]
  },
  {
   "cell_type": "code",
   "execution_count": 54,
   "id": "0ccbf775-9bb1-4d4f-9cc7-435c2cdf9607",
   "metadata": {},
   "outputs": [
    {
     "data": {
      "image/svg+xml": [
       "<svg xmlns=\"http://www.w3.org/2000/svg\" xmlns:xlink=\"http://www.w3.org/1999/xlink\" width=\"100.0\" height=\"100.0\" viewBox=\"1.96 1.96 1.08 1.08\" preserveAspectRatio=\"xMinYMin meet\"><g transform=\"matrix(1,0,0,-1,0,5.0)\"><g><circle cx=\"2.0\" cy=\"2.0\" r=\"0.0324\" stroke=\"#555555\" stroke-width=\"0.0108\" fill=\"#66cc99\" opacity=\"0.6\" /><circle cx=\"3.0\" cy=\"3.0\" r=\"0.0324\" stroke=\"#555555\" stroke-width=\"0.0108\" fill=\"#66cc99\" opacity=\"0.6\" /></g></g></svg>"
      ],
      "text/plain": [
       "<MULTIPOINT ((2 2), (3 3))>"
      ]
     },
     "execution_count": 54,
     "metadata": {},
     "output_type": "execute_result"
    }
   ],
   "source": [
    "from shapely import MultiLineString, MultiPoint, MultiPolygon\n",
    "\n",
    "multipoint = MultiPoint([Point(2, 2), Point(3, 3)])\n",
    "multipoint"
   ]
  },
  {
   "cell_type": "code",
   "execution_count": 56,
   "id": "703871f1-4c18-4fb9-b85c-83b63578ef82",
   "metadata": {},
   "outputs": [
    {
     "data": {
      "image/svg+xml": [
       "<svg xmlns=\"http://www.w3.org/2000/svg\" xmlns:xlink=\"http://www.w3.org/1999/xlink\" width=\"100.0\" height=\"100.0\" viewBox=\"1.84 1.84 4.32 2.3200000000000003\" preserveAspectRatio=\"xMinYMin meet\"><g transform=\"matrix(1,0,0,-1,0,6.0)\"><g><polyline fill=\"none\" stroke=\"#66cc99\" stroke-width=\"0.0864\" points=\"2.0,2.0 3.0,3.0\" opacity=\"0.8\" /><polyline fill=\"none\" stroke=\"#66cc99\" stroke-width=\"0.0864\" points=\"4.0,3.0 6.0,4.0\" opacity=\"0.8\" /></g></g></svg>"
      ],
      "text/plain": [
       "<MULTILINESTRING ((2 2, 3 3), (4 3, 6 4))>"
      ]
     },
     "execution_count": 56,
     "metadata": {},
     "output_type": "execute_result"
    }
   ],
   "source": [
    "multiline = MultiLineString(\n",
    "    [LineString([(2, 2), (3, 3)]), LineString([(4, 3), (6, 4)])]\n",
    ")\n",
    "multiline"
   ]
  },
  {
   "cell_type": "code",
   "execution_count": 57,
   "id": "09e65bba-d318-4085-899f-c95239331c69",
   "metadata": {},
   "outputs": [
    {
     "data": {
      "image/svg+xml": [
       "<svg xmlns=\"http://www.w3.org/2000/svg\" xmlns:xlink=\"http://www.w3.org/1999/xlink\" width=\"100.0\" height=\"100.0\" viewBox=\"-0.48 -0.48 12.96 12.96\" preserveAspectRatio=\"xMinYMin meet\"><g transform=\"matrix(1,0,0,-1,0,12.0)\"><g><path fill-rule=\"evenodd\" fill=\"#66cc99\" stroke=\"#555555\" stroke-width=\"0.25920000000000004\" opacity=\"0.6\" d=\"M 0.0,0.0 L 0.0,4.0 L 4.0,4.0 L 0.0,0.0 z\" /><path fill-rule=\"evenodd\" fill=\"#66cc99\" stroke=\"#555555\" stroke-width=\"0.25920000000000004\" opacity=\"0.6\" d=\"M 6.0,6.0 L 6.0,12.0 L 12.0,12.0 L 6.0,6.0 z\" /></g></g></svg>"
      ],
      "text/plain": [
       "<MULTIPOLYGON (((0 0, 0 4, 4 4, 0 0)), ((6 6, 6 12, 12 12, 6 6)))>"
      ]
     },
     "execution_count": 57,
     "metadata": {},
     "output_type": "execute_result"
    }
   ],
   "source": [
    "multipoly = MultiPolygon(\n",
    "    [Polygon([(0, 0), (0, 4), (4, 4)]), Polygon([(6, 6), (6, 12), (12, 12)])]\n",
    ")\n",
    "multipoly"
   ]
  },
  {
   "cell_type": "code",
   "execution_count": 58,
   "id": "22ab3cdf-d216-444f-9eea-993b4e785a25",
   "metadata": {},
   "outputs": [
    {
     "data": {
      "image/svg+xml": [
       "<svg xmlns=\"http://www.w3.org/2000/svg\" xmlns:xlink=\"http://www.w3.org/1999/xlink\" width=\"100.0\" height=\"100.0\" viewBox=\"-1.08 -1.08 2.16 2.16\" preserveAspectRatio=\"xMinYMin meet\"><g transform=\"matrix(1,0,0,-1,0,0.0)\"><path fill-rule=\"evenodd\" fill=\"#66cc99\" stroke=\"#555555\" stroke-width=\"0.0432\" opacity=\"0.6\" d=\"M 1.0,0.0 L 0.9951847266721969,-0.0980171403295606 L 0.9807852804032304,-0.19509032201612825 L 0.9569403357322088,-0.29028467725446233 L 0.9238795325112867,-0.3826834323650898 L 0.881921264348355,-0.47139673682599764 L 0.8314696123025452,-0.5555702330196022 L 0.773010453362737,-0.6343932841636455 L 0.7071067811865476,-0.7071067811865475 L 0.6343932841636455,-0.773010453362737 L 0.5555702330196023,-0.8314696123025452 L 0.4713967368259978,-0.8819212643483549 L 0.38268343236508984,-0.9238795325112867 L 0.29028467725446233,-0.9569403357322089 L 0.19509032201612833,-0.9807852804032304 L 0.09801714032956077,-0.9951847266721968 L 0.0,-1.0 L -0.09801714032956065,-0.9951847266721969 L -0.1950903220161282,-0.9807852804032304 L -0.29028467725446216,-0.9569403357322089 L -0.3826834323650897,-0.9238795325112867 L -0.4713967368259977,-0.881921264348355 L -0.555570233019602,-0.8314696123025455 L -0.6343932841636454,-0.7730104533627371 L -0.7071067811865475,-0.7071067811865476 L -0.773010453362737,-0.6343932841636455 L -0.8314696123025453,-0.5555702330196022 L -0.8819212643483549,-0.47139673682599786 L -0.9238795325112867,-0.3826834323650899 L -0.9569403357322088,-0.2902846772544624 L -0.9807852804032304,-0.1950903220161286 L -0.9951847266721968,-0.09801714032956083 L -1.0,0.0 L -0.9951847266721969,0.09801714032956059 L -0.9807852804032304,0.19509032201612836 L -0.9569403357322089,0.2902846772544621 L -0.9238795325112868,0.38268343236508967 L -0.881921264348355,0.47139673682599764 L -0.8314696123025455,0.555570233019602 L -0.7730104533627371,0.6343932841636453 L -0.7071067811865477,0.7071067811865475 L -0.6343932841636459,0.7730104533627367 L -0.5555702330196022,0.8314696123025452 L -0.47139673682599786,0.8819212643483549 L -0.38268343236509034,0.9238795325112865 L -0.29028467725446244,0.9569403357322088 L -0.19509032201612866,0.9807852804032303 L -0.09801714032956045,0.9951847266721969 L 0.0,1.0 L 0.09801714032956009,0.9951847266721969 L 0.1950903220161283,0.9807852804032304 L 0.29028467725446205,0.9569403357322089 L 0.38268343236509,0.9238795325112866 L 0.4713967368259976,0.881921264348355 L 0.5555702330196018,0.8314696123025455 L 0.6343932841636456,0.7730104533627369 L 0.7071067811865474,0.7071067811865477 L 0.7730104533627367,0.6343932841636459 L 0.8314696123025452,0.5555702330196022 L 0.8819212643483548,0.4713967368259979 L 0.9238795325112865,0.3826834323650904 L 0.9569403357322088,0.2902846772544625 L 0.9807852804032303,0.19509032201612872 L 0.9951847266721969,0.0980171403295605 L 1.0,0.0 z\" /></g></svg>"
      ],
      "text/plain": [
       "<POLYGON ((1 0, 1 -0.1, 1 -0.2, 1 -0.3, 0.9 -0.4, 0.9 -0.5, 0.8 -0.6, 0.8 -0...>"
      ]
     },
     "execution_count": 58,
     "metadata": {},
     "output_type": "execute_result"
    }
   ],
   "source": [
    "point = Point((0, 0))\n",
    "point.buffer(1)"
   ]
  },
  {
   "cell_type": "code",
   "execution_count": 2,
   "id": "d7dda498-805e-4f38-bed3-70469eeb1cb3",
   "metadata": {},
   "outputs": [
    {
     "data": {
      "text/html": [
       "<div>\n",
       "<style scoped>\n",
       "    .dataframe tbody tr th:only-of-type {\n",
       "        vertical-align: middle;\n",
       "    }\n",
       "\n",
       "    .dataframe tbody tr th {\n",
       "        vertical-align: top;\n",
       "    }\n",
       "\n",
       "    .dataframe thead th {\n",
       "        text-align: right;\n",
       "    }\n",
       "</style>\n",
       "<table border=\"1\" class=\"dataframe\">\n",
       "  <thead>\n",
       "    <tr style=\"text-align: right;\">\n",
       "      <th></th>\n",
       "      <th>FIPS</th>\n",
       "      <th>TOT_POP</th>\n",
       "      <th>area_km2</th>\n",
       "      <th>density</th>\n",
       "      <th>geometry</th>\n",
       "    </tr>\n",
       "  </thead>\n",
       "  <tbody>\n",
       "    <tr>\n",
       "      <th>0</th>\n",
       "      <td>53061053700</td>\n",
       "      <td>2821</td>\n",
       "      <td>3807.184608</td>\n",
       "      <td>0.740967</td>\n",
       "      <td>MULTIPOLYGON (((-13483919.86 6105180.541, -134...</td>\n",
       "    </tr>\n",
       "    <tr>\n",
       "      <th>1</th>\n",
       "      <td>53061053400</td>\n",
       "      <td>4757</td>\n",
       "      <td>293.698506</td>\n",
       "      <td>16.196882</td>\n",
       "      <td>MULTIPOLYGON (((-13595221.874 6140803.227, -13...</td>\n",
       "    </tr>\n",
       "    <tr>\n",
       "      <th>2</th>\n",
       "      <td>53061053506</td>\n",
       "      <td>4987</td>\n",
       "      <td>583.962356</td>\n",
       "      <td>8.539934</td>\n",
       "      <td>MULTIPOLYGON (((-13564549.124 6129594.689, -13...</td>\n",
       "    </tr>\n",
       "    <tr>\n",
       "      <th>3</th>\n",
       "      <td>53061053302</td>\n",
       "      <td>4753</td>\n",
       "      <td>201.313089</td>\n",
       "      <td>23.609990</td>\n",
       "      <td>MULTIPOLYGON (((-13609009.572 6156490.378, -13...</td>\n",
       "    </tr>\n",
       "    <tr>\n",
       "      <th>4</th>\n",
       "      <td>53061053301</td>\n",
       "      <td>4542</td>\n",
       "      <td>56.753758</td>\n",
       "      <td>80.029943</td>\n",
       "      <td>MULTIPOLYGON (((-13625918.78 6148350.23, -1362...</td>\n",
       "    </tr>\n",
       "  </tbody>\n",
       "</table>\n",
       "</div>"
      ],
      "text/plain": [
       "          FIPS  TOT_POP     area_km2    density  \\\n",
       "0  53061053700     2821  3807.184608   0.740967   \n",
       "1  53061053400     4757   293.698506  16.196882   \n",
       "2  53061053506     4987   583.962356   8.539934   \n",
       "3  53061053302     4753   201.313089  23.609990   \n",
       "4  53061053301     4542    56.753758  80.029943   \n",
       "\n",
       "                                            geometry  \n",
       "0  MULTIPOLYGON (((-13483919.86 6105180.541, -134...  \n",
       "1  MULTIPOLYGON (((-13595221.874 6140803.227, -13...  \n",
       "2  MULTIPOLYGON (((-13564549.124 6129594.689, -13...  \n",
       "3  MULTIPOLYGON (((-13609009.572 6156490.378, -13...  \n",
       "4  MULTIPOLYGON (((-13625918.78 6148350.23, -1362...  "
      ]
     },
     "execution_count": 2,
     "metadata": {},
     "output_type": "execute_result"
    }
   ],
   "source": [
    "import geopandas as gpd\n",
    "data = gpd.read_file(\"data/wa_crs.gpkg\")\n",
    "data.head()"
   ]
  },
  {
   "cell_type": "code",
   "execution_count": null,
   "id": "c296d38b-04e5-430b-b06c-e70d4c7709d6",
   "metadata": {},
   "outputs": [],
   "source": []
  }
 ],
 "metadata": {
  "kernelspec": {
   "display_name": "Python 3 (ipykernel)",
   "language": "python",
   "name": "python3"
  },
  "language_info": {
   "codemirror_mode": {
    "name": "ipython",
    "version": 3
   },
   "file_extension": ".py",
   "mimetype": "text/x-python",
   "name": "python",
   "nbconvert_exporter": "python",
   "pygments_lexer": "ipython3",
   "version": "3.12.7"
  }
 },
 "nbformat": 4,
 "nbformat_minor": 5
}
