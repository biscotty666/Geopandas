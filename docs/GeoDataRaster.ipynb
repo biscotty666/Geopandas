{
 "cells": [
  {
   "cell_type": "markdown",
   "id": "13982205-45e1-4dd0-9fc9-528b24fc8e65",
   "metadata": {},
   "source": [
    "# GeoData in Raster Format"
   ]
  },
  {
   "cell_type": "code",
   "execution_count": 1,
   "id": "48ae0b8a-58ad-4f82-b119-138872348ef4",
   "metadata": {},
   "outputs": [],
   "source": [
    "%matplotlib inline\n",
    "import numpy as np \n",
    "import matplotlib.pyplot as plt"
   ]
  },
  {
   "cell_type": "markdown",
   "id": "564607bf-504c-4a4c-a200-dfd43b12dbb8",
   "metadata": {},
   "source": [
    ">Raster libraries\n",
    "\n",
    "- `xarray`: multidimensional raster data with coordinates and attributes\n",
    "- `rioxarray`: methods to conduct GIS-related operations with raster data (e.g. reading/writing, reprojecting, clipping, resampling)\n",
    "- `xarray-spatial`: methods for analysing raster data (e.g. focal/zonal operations, surface analysis, path finding)\n",
    "- `rasterio`: core library for working with GIS raster data\n"
   ]
  },
  {
   "cell_type": "markdown",
   "id": "79ebc3df-a420-4b97-ab44-2111084e02cc",
   "metadata": {},
   "source": [
    "## Create a simple raster layer"
   ]
  },
  {
   "cell_type": "code",
   "execution_count": 2,
   "id": "5610b085-648f-412e-90e8-639b6caf7499",
   "metadata": {},
   "outputs": [],
   "source": [
    "raster_layer = np.zeros((10,10))"
   ]
  },
  {
   "cell_type": "code",
   "execution_count": 3,
   "id": "fc6e4028-876a-43db-9121-11cb3c5863c8",
   "metadata": {},
   "outputs": [
    {
     "data": {
      "text/plain": [
       "array([[ 0.,  0.,  0.,  0.,  0.,  0.,  0.,  0.,  0.,  0.],\n",
       "       [ 0.,  0.,  0.,  0.,  0.,  0.,  0.,  0.,  0.,  0.],\n",
       "       [ 0.,  0.,  0.,  0.,  0.,  0.,  0.,  0.,  0.,  0.],\n",
       "       [ 0.,  0.,  0.,  0.,  0.,  0.,  0.,  0.,  0.,  0.],\n",
       "       [ 0.,  0.,  0.,  0.,  5.,  5.,  5.,  0.,  0.,  0.],\n",
       "       [ 0.,  0.,  0.,  0.,  5., 10.,  5.,  0.,  0.,  0.],\n",
       "       [ 0.,  0.,  0.,  0.,  5.,  5.,  5.,  0.,  0.,  0.],\n",
       "       [ 0.,  0.,  0.,  0.,  0.,  0.,  0.,  0.,  0.,  0.],\n",
       "       [ 0.,  0.,  0.,  0.,  0.,  0.,  0.,  0.,  0.,  0.],\n",
       "       [ 0.,  0.,  0.,  0.,  0.,  0.,  0.,  0.,  0.,  0.]])"
      ]
     },
     "execution_count": 3,
     "metadata": {},
     "output_type": "execute_result"
    }
   ],
   "source": [
    "raster_layer[4:7, 4:7] = 5\n",
    "raster_layer[5,5] = 10\n",
    "raster_layer"
   ]
  },
  {
   "cell_type": "code",
   "execution_count": 4,
   "id": "52b9a806-302a-47fa-8fbe-addcb7291240",
   "metadata": {},
   "outputs": [
    {
     "data": {
      "image/png": "[encoded data removed]",
      "text/plain": [
       "<Figure size 640x480 with 2 Axes>"
      ]
     },
     "metadata": {},
     "output_type": "display_data"
    }
   ],
   "source": [
    "plt.imshow(raster_layer, cmap='terrain')\n",
    "plt.colorbar(label=\"Elevation\")\n",
    "plt.title(\"Simple raster representing elevation\");"
   ]
  },
  {
   "cell_type": "code",
   "execution_count": null,
   "id": "b1c71516-9503-4c02-96e6-f604676ce12d",
   "metadata": {},
   "outputs": [],
   "source": []
  }
 ],
 "metadata": {
  "kernelspec": {
   "display_name": "Python 3 (ipykernel)",
   "language": "python",
   "name": "python3"
  },
  "language_info": {
   "codemirror_mode": {
    "name": "ipython",
    "version": 3
   },
   "file_extension": ".py",
   "mimetype": "text/x-python",
   "name": "python",
   "nbconvert_exporter": "python",
   "pygments_lexer": "ipython3",
   "version": "3.12.7"
  }
 },
 "nbformat": 4,
 "nbformat_minor": 5
}
